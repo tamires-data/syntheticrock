{
 "cells": [
  {
   "cell_type": "markdown",
   "metadata": {},
   "source": [
    "  # Hashin-Shtrikman upper and lower bound curves"
   ]
  },
  {
   "cell_type": "markdown",
   "metadata": {},
   "source": [
    "   ## Function computes velocities and elastic moduli for the Hashin-Shtrikman  upper and lower bound curves.\n",
    " ## Without input arguments, plots default elastic moduli bounds vs porosity\n",
    " ## Function returns a list of outputs:\n",
    " ###     [KU,KL,GU,GL,POR,VPU,VPL,VSU,VSL,RHO]\n",
    " ###    KU,KL, GU,GL:       Upper and lower bounds on bulk and shear moduli\n",
    " ###    POR:                Volume fraction of material 2\n",
    " ###    VPU,VPL, VSU,VSL:   Upper and lower bounds on velocities\n",
    " ###   RHO:                Bulk density\n",
    "  "
   ]
  },
  {
   "cell_type": "code",
   "execution_count": 7,
   "metadata": {},
   "outputs": [
    {
     "data": {
      "text/plain": [
       "[<matplotlib.lines.Line2D at 0x212c3877cd0>,\n",
       " <matplotlib.lines.Line2D at 0x212c3877e20>,\n",
       " <matplotlib.lines.Line2D at 0x212c3877c70>,\n",
       " <matplotlib.lines.Line2D at 0x212c3883070>]"
      ]
     },
     "execution_count": 7,
     "metadata": {},
     "output_type": "execute_result"
    },
    {
     "data": {
      "image/png": "[encoded data removed]",
      "text/plain": [
       "<Figure size 432x288 with 1 Axes>"
      ]
     },
     "metadata": {
      "needs_background": "light"
     },
     "output_type": "display_data"
    }
   ],
   "source": [
    "import matplotlib.pyplot as plt\n",
    "import numpy as np\n",
    "\n",
    "def Hash(k1=76,mu1=44,k2=98,mu2=0,ro1=2.71,ro2=2.8):\n",
    "   \n",
    "    por=np.linspace(0,1,100); por[0]=1e-7;\n",
    "    \n",
    "    \n",
    "    ku=k2+(1.-por)*(k1-k2)*(k2+4.*mu1/3.)/(k2+4.*(mu1/3.)+por*(k1-k2));\n",
    "    kl=k2+(1.-por)*(k1-k2)*(k2+4.*mu2/3.)/(k2+4.*(mu2/3.)+por*(k1-k2));\n",
    "    fgu=mu1*(9.*k1+8.*mu1)/(6.*(k1+2.*mu1));\n",
    "    fgl=mu2*(9.*k2+8.*mu2)/(6.*(k2+2.*mu2));\n",
    "    gu=mu2+(mu1-mu2)*(1.-por)*(mu2+fgu)/(mu2+fgu+por*(mu1-mu2));\n",
    "    gl=mu2+(mu1-mu2)*(1.-por)*(mu2+fgl)/(mu2+fgl+por*(mu1-mu2));\n",
    "    \n",
    "    #por=[0,por]; ku=[k1,ku]; kl=[k1,kl]; gu=[mu1,gu]; gl=[mu1,gu];\n",
    "    #plt.plot(por,ku,'-g',por,kl,'-g',por,gu,'--c',por,gl,'--c')\n",
    "    outlist = [ku,kl,gu,gl,por]\n",
    "    \n",
    "    gl=mu1*(1.-por)/(1.+por*mu1);\n",
    "    ro=(1.-por)*ro1+por*ro2;\n",
    "    vpu=np.sqrt((ku+(4.*gu/3.))/ro); outlist.append(vpu)\n",
    "    vpl=np.sqrt((kl+(4.*gl/3.))/ro); outlist.append(vpl)\n",
    "    vsu=np.sqrt(gu/ro);              outlist.append(vsu)\n",
    "    vsl=np.sqrt(gl/ro);              outlist.append(vsl); outlist.append(ro)\n",
    "    \n",
    "    return outlist\n",
    "   \n",
    "Hash()\n",
    "\n",
    "\n",
    "outlist=Hash()\n",
    "\n",
    "por=outlist[4]; Vpu=outlist[5]; Vpl=outlist[6]; Vsu=outlist[7]; Vsl=outlist[8]; Rho=outlist[9]; \n",
    "\n",
    "plt.plot(por,Vpu,'-b',por,Vpl,'-b',por,Vsu,'--r',por,Vsl,'--r')\n",
    "  \n"
   ]
  },
  {
   "cell_type": "code",
   "execution_count": null,
   "metadata": {},
   "outputs": [],
   "source": []
  },
  {
   "cell_type": "code",
   "execution_count": null,
   "metadata": {},
   "outputs": [],
   "source": []
  }
 ],
 "metadata": {
  "kernelspec": {
   "display_name": "Python 3",
   "language": "python",
   "name": "python3"
  },
  "language_info": {
   "codemirror_mode": {
    "name": "ipython",
    "version": 3
   },
   "file_extension": ".py",
   "mimetype": "text/x-python",
   "name": "python",
   "nbconvert_exporter": "python",
   "pygments_lexer": "ipython3",
   "version": "3.8.5"
  }
 },
 "nbformat": 4,
 "nbformat_minor": 4
}
